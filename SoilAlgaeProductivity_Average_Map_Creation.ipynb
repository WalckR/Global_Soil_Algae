{
 "cells": [
  {
   "cell_type": "code",
   "execution_count": null,
   "id": "43285c6e-f1ac-405b-bd32-ff5085dd8c7d",
   "metadata": {},
   "outputs": [],
   "source": [
    "##########################################################################################################################################\n",
    "######################################## The following script averages the 10 model realizations  ########################################\n",
    "##########################################################################################################################################"
   ]
  },
  {
   "cell_type": "code",
   "execution_count": 1,
   "id": "dee7241f-ef5d-4ddd-8ac7-043db6b7952a",
   "metadata": {},
   "outputs": [
    {
     "data": {
      "text/html": [
       "<p>To authorize access needed by Earth Engine, open the following\n",
       "        URL in a web browser and follow the instructions:</p>\n",
       "        <p><a href=https://accounts.google.com/o/oauth2/auth?client_id=517222506229-vsmmajv00ul0bs7p89v5m89qs8eb9359.apps.googleusercontent.com&scope=https%3A%2F%2Fwww.googleapis.com%2Fauth%2Fearthengine+https%3A%2F%2Fwww.googleapis.com%2Fauth%2Fdevstorage.full_control&redirect_uri=urn%3Aietf%3Awg%3Aoauth%3A2.0%3Aoob&response_type=code&code_challenge=5HhpyvCXLsOe_hWFjjVtUfniz3l82dRKROvpvb3vsVo&code_challenge_method=S256>https://accounts.google.com/o/oauth2/auth?client_id=517222506229-vsmmajv00ul0bs7p89v5m89qs8eb9359.apps.googleusercontent.com&scope=https%3A%2F%2Fwww.googleapis.com%2Fauth%2Fearthengine+https%3A%2F%2Fwww.googleapis.com%2Fauth%2Fdevstorage.full_control&redirect_uri=urn%3Aietf%3Awg%3Aoauth%3A2.0%3Aoob&response_type=code&code_challenge=5HhpyvCXLsOe_hWFjjVtUfniz3l82dRKROvpvb3vsVo&code_challenge_method=S256</a></p>\n",
       "        <p>The authorization workflow will generate a code, which you\n",
       "        should paste in the box below</p>\n",
       "        "
      ],
      "text/plain": [
       "<IPython.core.display.HTML object>"
      ]
     },
     "metadata": {},
     "output_type": "display_data"
    },
    {
     "name": "stdin",
     "output_type": "stream",
     "text": [
      "Enter verification code:  4/1AX4XfWjZOlRTvrkLacCSToY-rgJyydoUzccTT998ZgDdN--CBymQZPOA5c4\n"
     ]
    },
    {
     "name": "stdout",
     "output_type": "stream",
     "text": [
      "\n",
      "Successfully saved authorization token.\n"
     ]
    }
   ],
   "source": [
    "import ee # Import the Python API package\n",
    "import os\n",
    "import geemap # The geemap Python package is built upon the ipyleaflet and folium packages and implements several methods for interacting with Earth Engine data layer\n",
    "ee.Authenticate() # Authenticate to the Earth Engine servers\n",
    "ee.Initialize() # Initialize the API"
   ]
  },
  {
   "cell_type": "code",
   "execution_count": 2,
   "id": "36afeb04-a4d3-4698-a059-9181763dafad",
   "metadata": {},
   "outputs": [],
   "source": [
    "# Load the image collection containinig models\n",
    "SoilPhototrophsProductivityInLog = ee.ImageCollection('users/romainwalcker/SoilPhototrophsV6')"
   ]
  },
  {
   "cell_type": "code",
   "execution_count": 3,
   "id": "f94b5386-f49c-44b9-9123-ad4ce6506135",
   "metadata": {},
   "outputs": [],
   "source": [
    "# Create a function to convert log NPP values to linear NPP values\n",
    "def LogConvert(image): \n",
    "  return image.exp().subtract(1)\n",
    "# Map the function\n",
    "SoilPhototrophsProductivity = SoilPhototrophsProductivityInLog.map(LogConvert)"
   ]
  },
  {
   "cell_type": "code",
   "execution_count": 4,
   "id": "d72f82ca-ed3b-4a33-b12d-04629c07239a",
   "metadata": {},
   "outputs": [],
   "source": [
    "# Average models\n",
    "meanModel = SoilPhototrophsProductivity.toBands().reduce(ee.Reducer.mean()).rename('Mean gC/m²/yr')\n",
    "stdModel = SoilPhototrophsProductivity.toBands().reduce(ee.Reducer.stdDev())\n",
    "varCoefModel = stdModel.divide(meanModel).rename('VarCoef')"
   ]
  },
  {
   "cell_type": "code",
   "execution_count": 5,
   "id": "945715c2-9a25-4677-a953-0213b884e9dc",
   "metadata": {
    "tags": []
   },
   "outputs": [
    {
     "data": {
      "application/vnd.jupyter.widget-view+json": {
       "model_id": "83f047bea84842b99160fc113431037d",
       "version_major": 2,
       "version_minor": 0
      },
      "text/plain": [
       "Map(center=[0, 0], controls=(WidgetControl(options=['position', 'transparent_bg'], widget=HBox(children=(Toggl…"
      ]
     },
     "metadata": {},
     "output_type": "display_data"
    }
   ],
   "source": [
    "# Create a new map\n",
    "Map1 = geemap.Map(center=[0,0], zoom=2)\n",
    "palette = ['330044', '220066', '1133cc', '33dd00', 'ffda21', 'ff6622', 'd10000']\n",
    "Map1.addLayer(meanModel, {'min': 0, 'max': 70, 'palette': palette},'Mean predicted NPP')\n",
    "Map1"
   ]
  },
  {
   "cell_type": "code",
   "execution_count": 13,
   "id": "4b1b0f6d-0028-41e5-ac5a-42ecbc2e75c2",
   "metadata": {},
   "outputs": [
    {
     "data": {
      "application/vnd.jupyter.widget-view+json": {
       "model_id": "99399f2d9e1a40beb1190ec8f98b98dd",
       "version_major": 2,
       "version_minor": 0
      },
      "text/plain": [
       "Map(center=[0, 0], controls=(WidgetControl(options=['position', 'transparent_bg'], widget=HBox(children=(Toggl…"
      ]
     },
     "metadata": {},
     "output_type": "display_data"
    }
   ],
   "source": [
    "# Create a new map\n",
    "Map2 = geemap.Map(center=[0,0], zoom=2)\n",
    "Map2.addLayer(varCoefModel, {'min': 0, 'max': 0.7},'Coefficient of variation')\n",
    "Map2"
   ]
  },
  {
   "cell_type": "code",
   "execution_count": 12,
   "id": "3dbac763-1879-436c-a939-f8986c2cbb33",
   "metadata": {},
   "outputs": [],
   "source": [
    "# Create a bounding rectangle for the entire planet\n",
    "unboundedGeo = ee.Geometry.Rectangle([-180, -88, 180, 88], \"EPSG:4326\", False)\n",
    "# Create en empty imageCollection to store maps in your Asset folder\n",
    "ee.data.createAsset({'type': 'ImageCollection'}, 'users/romainwalcker/SoilPhototrophsV6Final')\n",
    "# Export to your Asset\n",
    "taskParams = {'assetId': 'users/romainwalcker/SoilPhototrophsV6Final','region': unboundedGeo,'crs':'EPSG:4326','crsTransform':[0.008333333333333333,0,-180,0,-0.008333333333333333,90],'maxPixels': 1e12}\n",
    "task = ee.batch.Export.image.toAsset(meanModel,str('MeanNPP'),**taskParams)\n",
    "task.start()\n",
    "taskParams = {'assetId': 'users/romainwalcker/SoilPhototrophsV6Final','region': unboundedGeo,'crs':'EPSG:4326','crsTransform':[0.008333333333333333,0,-180,0,-0.008333333333333333,90],'maxPixels': 1e12}\n",
    "task = ee.batch.Export.image.toAsset(varCoefModel,str('VarCoef'),**taskParams)\n",
    "task.start()\n",
    "# Export to your Drive\n",
    "#taskParams = {'crs': 'EPSG:4326','crsTransform':[0.008333333333333333,0,-180,0,-0.008333333333333333,90],'maxPixels': 10e15,'fileFormat': 'GeoTIFF',\n",
    "              #'skipEmptyTiles': True,'region': unboundedGeo ,'folder': 'Jupyter'}\n",
    "#task = ee.batch.Export.image.toDrive(meanModel,str('MeanNPP'),**taskParams)\n",
    "#task.start()\n",
    "#taskParams = {'crs': 'EPSG:4326','crsTransform':[0.008333333333333333,0,-180,0,-0.008333333333333333,90],'maxPixels': 10e15,'fileFormat': 'GeoTIFF',\n",
    "              #'skipEmptyTiles': True,'region': unboundedGeo ,'folder': 'Jupyter'}\n",
    "#task = ee.batch.Export.image.toDrive(varCoefModel,str('VarCoefNPP'),**taskParams)\n",
    "#task.start()"
   ]
  }
 ],
 "metadata": {
  "kernelspec": {
   "display_name": "Python 3 (ipykernel)",
   "language": "python",
   "name": "python3"
  },
  "language_info": {
   "codemirror_mode": {
    "name": "ipython",
    "version": 3
   },
   "file_extension": ".py",
   "mimetype": "text/x-python",
   "name": "python",
   "nbconvert_exporter": "python",
   "pygments_lexer": "ipython3",
   "version": "3.9.7"
  }
 },
 "nbformat": 4,
 "nbformat_minor": 5
}
