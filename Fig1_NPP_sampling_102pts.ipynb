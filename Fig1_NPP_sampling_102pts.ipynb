{
 "cells": [
  {
   "cell_type": "code",
   "execution_count": null,
   "id": "0fc1adcc-0290-4005-8272-e779a8f43524",
   "metadata": {},
   "outputs": [],
   "source": [
    "##########################################################################################################################################\n",
    "############# This script extracts MODIS mean annual net photosynthesis values at each of the soil algae data point position #############\n",
    "############################################ This script was used to produce tha data in Fig.1 ##########################################\n",
    "##########################################################################################################################################"
   ]
  },
  {
   "cell_type": "code",
   "execution_count": 28,
   "id": "21f7c178",
   "metadata": {},
   "outputs": [
    {
     "data": {
      "text/html": [
       "<p>To authorize access needed by Earth Engine, open the following\n",
       "        URL in a web browser and follow the instructions:</p>\n",
       "        <p><a href=https://accounts.google.com/o/oauth2/auth?client_id=517222506229-vsmmajv00ul0bs7p89v5m89qs8eb9359.apps.googleusercontent.com&scope=https%3A%2F%2Fwww.googleapis.com%2Fauth%2Fearthengine+https%3A%2F%2Fwww.googleapis.com%2Fauth%2Fdevstorage.full_control&redirect_uri=urn%3Aietf%3Awg%3Aoauth%3A2.0%3Aoob&response_type=code&code_challenge=NXYyj2OdNdMdSn0UsGn1QiH8J2F5gUj8osR-z0NpMpw&code_challenge_method=S256>https://accounts.google.com/o/oauth2/auth?client_id=517222506229-vsmmajv00ul0bs7p89v5m89qs8eb9359.apps.googleusercontent.com&scope=https%3A%2F%2Fwww.googleapis.com%2Fauth%2Fearthengine+https%3A%2F%2Fwww.googleapis.com%2Fauth%2Fdevstorage.full_control&redirect_uri=urn%3Aietf%3Awg%3Aoauth%3A2.0%3Aoob&response_type=code&code_challenge=NXYyj2OdNdMdSn0UsGn1QiH8J2F5gUj8osR-z0NpMpw&code_challenge_method=S256</a></p>\n",
       "        <p>The authorization workflow will generate a code, which you\n",
       "        should paste in the box below</p>\n",
       "        "
      ],
      "text/plain": [
       "<IPython.core.display.HTML object>"
      ]
     },
     "metadata": {},
     "output_type": "display_data"
    },
    {
     "name": "stdin",
     "output_type": "stream",
     "text": [
      "Enter verification code:  4/1AX4XfWg_PmVA5qYUCi12RM4a6bJhKl5bZy5yjW8AACGo1023awWrdmRunJ8\n"
     ]
    },
    {
     "name": "stdout",
     "output_type": "stream",
     "text": [
      "\n",
      "Successfully saved authorization token.\n"
     ]
    }
   ],
   "source": [
    "import ee # Import the Python API package\n",
    "ee.Authenticate() # Authenticate to the Earth Engine servers\n",
    "ee.Initialize() # Initialize the API"
   ]
  },
  {
   "cell_type": "code",
   "execution_count": 29,
   "id": "36f294e7-5bda-4da6-9bf1-0605c56473e5",
   "metadata": {},
   "outputs": [],
   "source": [
    "import geemap # The geemap Python package is built upon the ipyleaflet and folium packages and implements several methods for interacting with Earth Engine data layers"
   ]
  },
  {
   "cell_type": "code",
   "execution_count": 30,
   "id": "52b909f2-e892-4492-819a-71d2f761007e",
   "metadata": {},
   "outputs": [
    {
     "data": {
      "application/vnd.jupyter.widget-view+json": {
       "model_id": "42eeeb582d044bbda14d037160a0c9f1",
       "version_major": 2,
       "version_minor": 0
      },
      "text/plain": [
       "Map(center=[0, 0], controls=(WidgetControl(options=['position', 'transparent_bg'], widget=HBox(children=(Toggl…"
      ]
     },
     "metadata": {},
     "output_type": "display_data"
    }
   ],
   "source": [
    "Map = geemap.Map(center=[0,0], zoom=2)\n",
    "Map"
   ]
  },
  {
   "cell_type": "code",
   "execution_count": 31,
   "id": "902e312d",
   "metadata": {},
   "outputs": [
    {
     "name": "stdout",
     "output_type": "stream",
     "text": [
      "Size of the productivity data collection 102\n"
     ]
    }
   ],
   "source": [
    "# Loading sampling points stored in personnal repository\n",
    "ProductivityPts = ee.FeatureCollection('users/romainwalcker/Phototrophs_Productivity_AllPts')\n",
    "print('Size of the productivity data collection',ProductivityPts.size().getInfo())"
   ]
  },
  {
   "cell_type": "code",
   "execution_count": 32,
   "id": "b54abf6a",
   "metadata": {},
   "outputs": [],
   "source": [
    "# Loading MODIS annual net photosynthesis data (in kgC/m^2/yr scaled at 0.0001) here converted in gC/m^2/yr\n",
    "MOD17A3HGF = ee.ImageCollection('MODIS/006/MOD17A3HGF')\n",
    "nppMean = MOD17A3HGF.select('Npp').mean().divide(10000).multiply(1000).rename('nppMean') # Long term mean net photosynthesis\n",
    "nppMedian = MOD17A3HGF.select('Npp').median().divide(10000).multiply(1000).rename('nppMedian') # Long term median\n",
    "nppMin = MOD17A3HGF.select('Npp').min().divide(10000).multiply(1000).rename('nppMin') # Long term min\n",
    "nppMax = MOD17A3HGF.select('Npp').max().divide(10000).multiply(1000).rename('nppMax') # Long term max\n",
    "\n",
    "NPPStack = nppMean.addBands(nppMedian).addBands(nppMin).addBands(nppMax) # stacked into a multiband image"
   ]
  },
  {
   "cell_type": "code",
   "execution_count": 46,
   "id": "e4827a3d",
   "metadata": {},
   "outputs": [],
   "source": [
    "NPP_Sampled_AllPts = NPPStack.sampleRegions(collection=ProductivityPts, geometries= True, scale=500)"
   ]
  },
  {
   "cell_type": "code",
   "execution_count": 51,
   "id": "8ef9bab3-16a7-4614-9de4-201c60c8fce5",
   "metadata": {
    "tags": []
   },
   "outputs": [],
   "source": [
    "# Map mean MODIS annual net photosynthesis data\n",
    "vis = {'palette': ['330044', '220066', '1133cc', '33dd00', 'ffda21', 'ff6622', 'd10000'],'min':0,'max':1500,'opacity': 0.5}\n",
    "Map.addLayer(nppMean, vis,'nppMean')"
   ]
  },
  {
   "cell_type": "code",
   "execution_count": 50,
   "id": "e82fe23d-65f7-401a-8f3e-923badacc448",
   "metadata": {},
   "outputs": [],
   "source": [
    "# Map sampling points\n",
    "Map.addLayer(ProductivityPts, {},'Sampling points')"
   ]
  },
  {
   "cell_type": "code",
   "execution_count": 48,
   "id": "59cd9d8c-4db9-4a3a-a893-4e987c14803f",
   "metadata": {},
   "outputs": [],
   "source": [
    "# Export an ee.FeatureCollection as an Earth Engine asset.\n",
    "taskParams = {'driveFolder': 'Jupyter','fileFormat': 'CSV'}\n",
    "task = ee.batch.Export.table.toDrive(NPP_Sampled_AllPts,str('NPP_Sampled_AllPts'),**taskParams)\n",
    "task.start()"
   ]
  },
  {
   "cell_type": "code",
   "execution_count": null,
   "id": "8b64a342-8b40-4ef0-b348-1eb9a0061003",
   "metadata": {},
   "outputs": [],
   "source": []
  }
 ],
 "metadata": {
  "kernelspec": {
   "display_name": "Python 3 (ipykernel)",
   "language": "python",
   "name": "python3"
  },
  "language_info": {
   "codemirror_mode": {
    "name": "ipython",
    "version": 3
   },
   "file_extension": ".py",
   "mimetype": "text/x-python",
   "name": "python",
   "nbconvert_exporter": "python",
   "pygments_lexer": "ipython3",
   "version": "3.9.7"
  }
 },
 "nbformat": 4,
 "nbformat_minor": 5
}
