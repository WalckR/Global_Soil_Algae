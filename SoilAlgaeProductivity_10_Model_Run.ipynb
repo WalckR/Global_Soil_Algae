{
 "cells": [
  {
   "cell_type": "code",
   "execution_count": 1,
   "id": "630da94f-f028-4e26-842b-8d3b83088a2d",
   "metadata": {},
   "outputs": [],
   "source": [
    "##########################################################################################################################################\n",
    "######## The following script creates 10 realization of soil phototrophs map and save it as oan ensemble in a image collection ###########\n",
    "##########################################################################################################################################"
   ]
  },
  {
   "cell_type": "code",
   "execution_count": null,
   "id": "a1490ba7-d6c8-48bd-9e3a-22da2f2991fe",
   "metadata": {},
   "outputs": [],
   "source": [
    "import ee # Import the Python API package\n",
    "import geemap # The geemap Python package is built upon the ipyleaflet and folium packages and implements several methods for interacting with Earth Engine data layer\n",
    "ee.Authenticate() # Authenticate to the Earth Engine servers\n",
    "ee.Initialize() # Initialize the API"
   ]
  },
  {
   "cell_type": "code",
   "execution_count": null,
   "id": "86f884eb-d0c4-41ff-8ce5-8459cfbe3a29",
   "metadata": {
    "tags": []
   },
   "outputs": [],
   "source": [
    "# Create en empty imageCollection to store maps in your Asset folder\n",
    "ee.data.createAsset({'type': 'ImageCollection'}, 'users/romainwalcker/SoilPhototrophsV6')"
   ]
  },
  {
   "cell_type": "code",
   "execution_count": 11,
   "id": "f3092b25-f89e-4b37-8df2-d5ec3af58f26",
   "metadata": {},
   "outputs": [],
   "source": [
    "# Create a bounding rectangle for the entire planet\n",
    "unboundedGeo = ee.Geometry.Rectangle([-180, -88, 180, 88], \"EPSG:4326\", False)"
   ]
  },
  {
   "cell_type": "code",
   "execution_count": 15,
   "id": "4c084b78-2123-4c74-b451-c1cfc1fc508f",
   "metadata": {},
   "outputs": [
    {
     "name": "stdout",
     "output_type": "stream",
     "text": [
      "{'bio12': 701.008272873032}\n",
      "{'bio12': 684.3898213485704}\n"
     ]
    }
   ],
   "source": [
    "# Make a composite of interest of selected covariables (see paper). Data are standardized by subtracting global mean and dividing by global standard deviation. \n",
    "# Annual Precipitation\n",
    "variable = ee.Image('WORLDCLIM/V1/BIO').select('bio12').rename('bio12')\n",
    "mean = variable.reduceRegion(reducer= \"mean\",geometry= unboundedGeo,bestEffort= True)\n",
    "std = variable.reduceRegion(reducer= \"stdDev\",geometry= unboundedGeo,bestEffort= True)\n",
    "bio12 = variable.subtract(ee.Image(mean.getInfo().get('bio12'))).divide(ee.Image(std.getInfo().get('bio12')))\n",
    "print(mean.getInfo())\n",
    "print(std.getInfo())"
   ]
  },
  {
   "cell_type": "code",
   "execution_count": 16,
   "id": "fc5f9510-96be-431a-864f-93f5549b83dd",
   "metadata": {},
   "outputs": [
    {
     "data": {
      "application/vnd.jupyter.widget-view+json": {
       "model_id": "4aeb7620a23f4179ba740faab2e4ceb0",
       "version_major": 2,
       "version_minor": 0
      },
      "text/plain": [
       "Map(center=[0, 0], controls=(WidgetControl(options=['position', 'transparent_bg'], widget=HBox(children=(Toggl…"
      ]
     },
     "metadata": {},
     "output_type": "display_data"
    }
   ],
   "source": [
    "# Map Annual Precipitation\n",
    "Map2 = geemap.Map(center=[0,0], zoom=2)\n",
    "Map2.addLayer(bio12, {'min': -3, 'max': 3, 'palette': ['00FFFF', '800080']},'Annual Precipitation')\n",
    "Map2"
   ]
  },
  {
   "cell_type": "code",
   "execution_count": 17,
   "id": "090c4d93-b3fb-4a44-a7ba-371c1c2c7c2e",
   "metadata": {},
   "outputs": [
    {
     "name": "stdout",
     "output_type": "stream",
     "text": [
      "{'vpd': 64.1331083170928}\n",
      "{'vpd': 79.55634101541885}\n"
     ]
    }
   ],
   "source": [
    "# Vapor pressure deficit\n",
    "variable = ee.ImageCollection('IDAHO_EPSCOR/TERRACLIMATE').select('vpd').mean().rename('vpd')\n",
    "mean = variable.reduceRegion(reducer= \"mean\",geometry= unboundedGeo,bestEffort= True,scale=bio12.projection().nominalScale().getInfo())\n",
    "std = variable.reduceRegion(reducer= \"stdDev\",geometry= unboundedGeo,bestEffort= True,scale=bio12.projection().nominalScale().getInfo())\n",
    "vpd = variable.subtract(ee.Image(mean.getInfo().get('vpd'))).divide(ee.Image(std.getInfo().get('vpd')))\n",
    "print(mean.getInfo())\n",
    "print(std.getInfo())"
   ]
  },
  {
   "cell_type": "code",
   "execution_count": 42,
   "id": "dc89cd60-ea75-476a-bfba-4c8c12bca1db",
   "metadata": {},
   "outputs": [
    {
     "data": {
      "application/vnd.jupyter.widget-view+json": {
       "model_id": "9bc809c7a1514646a7d0eac21df2ca73",
       "version_major": 2,
       "version_minor": 0
      },
      "text/plain": [
       "Map(center=[0, 0], controls=(WidgetControl(options=['position', 'transparent_bg'], widget=HBox(children=(Toggl…"
      ]
     },
     "metadata": {},
     "output_type": "display_data"
    }
   ],
   "source": [
    "# Map Vapor pressure deficit\n",
    "Map3 = geemap.Map(center=[0,0], zoom=2)\n",
    "Map3.addLayer(vpd, {'min': -3, 'max': 3, 'palette': ['#FFFF00', '0000FF']},'Vapor pressure deficit')\n",
    "Map3"
   ]
  },
  {
   "cell_type": "code",
   "execution_count": 19,
   "id": "55ca008d-7ce6-4e42-aae1-265d91c2d50e",
   "metadata": {},
   "outputs": [
    {
     "name": "stdout",
     "output_type": "stream",
     "text": [
      "{'lai': 11.13350102389048}\n",
      "{'lai': 10.298803115633122}\n"
     ]
    }
   ],
   "source": [
    "# leaf area index\n",
    "variable = ee.ImageCollection('MODIS/006/MCD15A3H').select('Lai').mean().rename('lai')\n",
    "mean = variable.reduceRegion(reducer= \"mean\",geometry= unboundedGeo,bestEffort= True,scale=bio12.projection().nominalScale().getInfo())\n",
    "std = variable.reduceRegion(reducer= \"stdDev\",geometry= unboundedGeo,bestEffort= True,scale=bio12.projection().nominalScale().getInfo())\n",
    "lai = variable.subtract(ee.Image(mean.getInfo().get('lai'))).divide(ee.Image(std.getInfo().get('lai')))\n",
    "print(mean.getInfo())\n",
    "print(std.getInfo())"
   ]
  },
  {
   "cell_type": "code",
   "execution_count": 20,
   "id": "1e8a0d19-b6e2-4c0a-8fed-6b1dcd2b7af6",
   "metadata": {},
   "outputs": [
    {
     "data": {
      "application/vnd.jupyter.widget-view+json": {
       "model_id": "c560c2267651464f95002bd5c0fcc6fa",
       "version_major": 2,
       "version_minor": 0
      },
      "text/plain": [
       "Map(center=[0, 0], controls=(WidgetControl(options=['position', 'transparent_bg'], widget=HBox(children=(Toggl…"
      ]
     },
     "metadata": {},
     "output_type": "display_data"
    }
   ],
   "source": [
    "# Map leaf area index\n",
    "Map4 = geemap.Map(center=[0,0], zoom=2)\n",
    "Map4.addLayer(lai, {'min': -1, 'max': 1, 'palette': ['#FFFF00', '#9ACD32']},'leaf area index')\n",
    "Map4"
   ]
  },
  {
   "cell_type": "code",
   "execution_count": 21,
   "id": "7f45ddd7-61d7-4a92-bc18-8060f69207af",
   "metadata": {},
   "outputs": [
    {
     "name": "stdout",
     "output_type": "stream",
     "text": [
      "{'soc': 11.728138930074643}\n",
      "{'soc': 13.772890600889802}\n"
     ]
    }
   ],
   "source": [
    "# Soil organic carbon content at 0 cm depth\n",
    "variable = ee.Image(\"OpenLandMap/SOL/SOL_ORGANIC-CARBON_USDA-6A1C_M/v02\").select('b0').rename('soc')\n",
    "mean = variable.reduceRegion(reducer= \"mean\",geometry= unboundedGeo,bestEffort= True,scale=bio12.projection().nominalScale().getInfo())\n",
    "std = variable.reduceRegion(reducer= \"stdDev\",geometry= unboundedGeo,bestEffort= True,scale=bio12.projection().nominalScale().getInfo())\n",
    "soc = variable.subtract(ee.Image(mean.getInfo().get('soc'))).divide(ee.Image(std.getInfo().get('soc')))\n",
    "print(mean.getInfo())\n",
    "print(std.getInfo())"
   ]
  },
  {
   "cell_type": "code",
   "execution_count": 22,
   "id": "b7575f03-9c95-4c32-892d-e3a62e623b04",
   "metadata": {},
   "outputs": [
    {
     "data": {
      "application/vnd.jupyter.widget-view+json": {
       "model_id": "e4bce78ace544ccf8a27d87a62054e7f",
       "version_major": 2,
       "version_minor": 0
      },
      "text/plain": [
       "Map(center=[0, 0], controls=(WidgetControl(options=['position', 'transparent_bg'], widget=HBox(children=(Toggl…"
      ]
     },
     "metadata": {},
     "output_type": "display_data"
    }
   ],
   "source": [
    "# Create a new map\n",
    "Map5 = geemap.Map(center=[0,0], zoom=2)\n",
    "Map5.addLayer(soc, {'min': -1, 'max': 1, 'palette': ['#FFFF00', '#cc9966']},'Soil organic carbon')\n",
    "Map5"
   ]
  },
  {
   "cell_type": "code",
   "execution_count": 23,
   "id": "73116562-485a-4661-89cf-6b46d3662181",
   "metadata": {},
   "outputs": [
    {
     "name": "stdout",
     "output_type": "stream",
     "text": [
      "{'sand': 52.40900797121547}\n",
      "{'sand': 16.70112872492988}\n"
     ]
    }
   ],
   "source": [
    "# Sand content\n",
    "variable = ee.Image(\"OpenLandMap/SOL/SOL_SAND-WFRACTION_USDA-3A1A1A_M/v02\").select('b0').rename('sand')\n",
    "mean = variable.reduceRegion(reducer= \"mean\",geometry= unboundedGeo,bestEffort= True,scale=bio12.projection().nominalScale().getInfo())\n",
    "std = variable.reduceRegion(reducer= \"stdDev\",geometry= unboundedGeo,bestEffort= True,scale=bio12.projection().nominalScale().getInfo())\n",
    "sand = variable.subtract(ee.Image(mean.getInfo().get('sand'))).divide(ee.Image(std.getInfo().get('sand')))\n",
    "print(mean.getInfo())\n",
    "print(std.getInfo())"
   ]
  },
  {
   "cell_type": "code",
   "execution_count": 24,
   "id": "981ea482-c773-4df2-81bb-0e10cdae80e4",
   "metadata": {},
   "outputs": [
    {
     "data": {
      "application/vnd.jupyter.widget-view+json": {
       "model_id": "914fdccc023f4080af31e2e47cc121da",
       "version_major": 2,
       "version_minor": 0
      },
      "text/plain": [
       "Map(center=[0, 0], controls=(WidgetControl(options=['position', 'transparent_bg'], widget=HBox(children=(Toggl…"
      ]
     },
     "metadata": {},
     "output_type": "display_data"
    }
   ],
   "source": [
    "# Create a new map\n",
    "Map6 = geemap.Map(center=[0,0], zoom=2)\n",
    "Map6.addLayer(sand, {'min': -1, 'max': 1, 'palette': ['#FFFF00', '#FFC0CB']},'Sand content')\n",
    "Map6"
   ]
  },
  {
   "cell_type": "code",
   "execution_count": 25,
   "id": "ca07ef93-0b64-4a30-b0f2-c676424e5c8e",
   "metadata": {},
   "outputs": [
    {
     "name": "stdout",
     "output_type": "stream",
     "text": [
      "{'moist': 492.53320888978374}\n",
      "{'moist': 523.7915904934936}\n"
     ]
    }
   ],
   "source": [
    "# Soil moisture\n",
    "variable = ee.ImageCollection('IDAHO_EPSCOR/TERRACLIMATE').select('soil').mean().rename('moist')\n",
    "mean = variable.reduceRegion(reducer= \"mean\",geometry= unboundedGeo,bestEffort= True,scale=bio12.projection().nominalScale().getInfo())\n",
    "std = variable.reduceRegion(reducer= \"stdDev\",geometry= unboundedGeo,bestEffort= True,scale=bio12.projection().nominalScale().getInfo())\n",
    "moist = variable.subtract(ee.Image(mean.getInfo().get('moist'))).divide(ee.Image(std.getInfo().get('moist')))\n",
    "print(mean.getInfo())\n",
    "print(std.getInfo())"
   ]
  },
  {
   "cell_type": "code",
   "execution_count": 37,
   "id": "26f6dcd1-840a-4675-b83d-cd75336e25d3",
   "metadata": {},
   "outputs": [
    {
     "data": {
      "application/vnd.jupyter.widget-view+json": {
       "model_id": "e39071bc631442848f3297fb6e532cc9",
       "version_major": 2,
       "version_minor": 0
      },
      "text/plain": [
       "Map(center=[0, 0], controls=(WidgetControl(options=['position', 'transparent_bg'], widget=HBox(children=(Toggl…"
      ]
     },
     "metadata": {},
     "output_type": "display_data"
    }
   ],
   "source": [
    "# Create a new map\n",
    "Map7 = geemap.Map(center=[0,0], zoom=2)\n",
    "Map7.addLayer(moist, {'min': -1, 'max': 1, 'palette': ['#add8e6', '#630330']},'Soil moisture')\n",
    "Map7"
   ]
  },
  {
   "cell_type": "code",
   "execution_count": 38,
   "id": "7c3a8d2d-0a2b-4cb0-8002-9059499a62c7",
   "metadata": {},
   "outputs": [],
   "source": [
    "# Making the composite bands of covariates\n",
    "compositeOfInterest = bio12.addBands(lai).addBands(moist).addBands(soc).addBands(vpd).addBands(sand)"
   ]
  },
  {
   "cell_type": "code",
   "execution_count": 30,
   "id": "d3f5b438-1dc0-4a22-a53b-aa6cb920048d",
   "metadata": {},
   "outputs": [],
   "source": [
    "# Input the name of the property of interest\n",
    "propertyToPredictAsString = 'log_pp'\n",
    "# Define a list of variables to use for regression\n",
    "listOfVars = ['bio12','lai','moist','soc','vpd','sand']"
   ]
  },
  {
   "cell_type": "code",
   "execution_count": 41,
   "id": "f7a41be1-0eb9-4500-aeda-60fa97238bfa",
   "metadata": {},
   "outputs": [],
   "source": [
    "# loop over files (can take up to 5 hours)\n",
    "for NumRun in range(1,11):\n",
    "    # Load the feature collection of points\n",
    "    inputtedFeatureCollection = ee.FeatureCollection('users/romainwalcker/Phototrophs_run'+str(NumRun))\n",
    "    # Sample the image\n",
    "    trainingData = compositeOfInterest.sampleRegions(collection= inputtedFeatureCollection,scale=compositeOfInterest.select('soc').projection().nominalScale().getInfo())\n",
    "    # Classify using parameters found in R (see paper)\n",
    "    finalClassifiedImage = compositeOfInterest.classify(ee.Classifier.smileRandomForest(numberOfTrees= 350,variablesPerSplit= 4,bagFraction= 1,seed= 0).setOutputMode('REGRESSION').train(trainingData, propertyToPredictAsString, listOfVars))\n",
    "    # Export the regression as a part in an asset\n",
    "    taskParams = {'assetId': 'users/romainwalcker/SoilPhototrophsV6/Phototrophs_run'+str(NumRun),'region': unboundedGeo,'crs':'EPSG:4326','crsTransform':[0.008333333333333333,0,-180,0,-0.008333333333333333,90],'maxPixels': 1e12}\n",
    "    task = ee.batch.Export.image.toAsset(finalClassifiedImage,str('Phototrophs_run'+str(NumRun)),**taskParams)\n",
    "    task.start()"
   ]
  }
 ],
 "metadata": {
  "kernelspec": {
   "display_name": "Python 3 (ipykernel)",
   "language": "python",
   "name": "python3"
  },
  "language_info": {
   "codemirror_mode": {
    "name": "ipython",
    "version": 3
   },
   "file_extension": ".py",
   "mimetype": "text/x-python",
   "name": "python",
   "nbconvert_exporter": "python",
   "pygments_lexer": "ipython3",
   "version": "3.9.7"
  }
 },
 "nbformat": 4,
 "nbformat_minor": 5
}
